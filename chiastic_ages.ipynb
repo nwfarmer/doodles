{
 "cells": [
  {
   "cell_type": "code",
   "execution_count": 65,
   "metadata": {},
   "outputs": [],
   "source": []
  },
  {
   "cell_type": "code",
   "execution_count": 89,
   "metadata": {},
   "outputs": [
    {
     "name": "stdout",
     "output_type": "stream",
     "text": [
      "[[[3, 30], [14, 41], [25, 52], [36, 63], [47, 74], [58, 85], [69, 96]], [[4, 40], [15, 51], [26, 62], [37, 73], [48, 84], [59, 95]], [[5, 50], [16, 61], [27, 72], [38, 83], [49, 94]]]\n",
      "0.0967741935483871\n"
     ]
    }
   ],
   "source": [
    "def reverse(num):\n",
    "    return int(str(num)[::-1])\n",
    "\n",
    "def possible_age_combos():\n",
    "    age1 = 0\n",
    "    age2 = 20\n",
    "    possible_combos = []\n",
    "    while (age2 <= 50):\n",
    "        possible_combos.append([age1, age2])\n",
    "        age2 += 1\n",
    "    return possible_combos\n",
    "\n",
    "possible_combos = possible_age_combos()\n",
    "\n",
    "def find_chiastic(ages):\n",
    "    child_age = ages[0]\n",
    "    parent_age = ages[1]\n",
    "    chiastic_ages = []\n",
    "    while parent_age <= 100:\n",
    "        if (child_age == reverse(parent_age)):\n",
    "            chiastic_ages.append([child_age, parent_age])\n",
    "            child_age += 1\n",
    "            parent_age += 1\n",
    "        else:\n",
    "            child_age += 1\n",
    "            parent_age += 1\n",
    "    if not chiastic_ages:\n",
    "        return \"None\"\n",
    "    else:\n",
    "        return chiastic_ages\n",
    "\n",
    "def all_possible_chiastics():\n",
    "    chiastic_list = []\n",
    "    for combo in possible_combos:\n",
    "        chiastic_list.append(find_chiastic(combo))\n",
    "    return chiastic_list\n",
    "\n",
    "chiastics = all_possible_chiastics()\n",
    "\n",
    "def counter():\n",
    "    counter = 0\n",
    "    for i in chiastics:\n",
    "        if i == \"None\":\n",
    "            counter += 1\n",
    "    return counter\n",
    "\n",
    "def remove_nones():\n",
    "    chiastic_combos = []\n",
    "    for i in chiastics:\n",
    "        if i == \"None\":\n",
    "            continue\n",
    "        else:\n",
    "            chiastic_combos.append(i)\n",
    "    return chiastic_combos\n",
    "        \n",
    "\n",
    "\n",
    "none_counter = counter()\n",
    "difference = len(chiastics) - none_counter\n",
    "rate = difference / len_chiastics\n",
    "\n",
    "print(remove_nones())\n",
    "print(rate)\n"
   ]
  },
  {
   "cell_type": "code",
   "execution_count": null,
   "metadata": {},
   "outputs": [],
   "source": [
    "\n",
    "    "
   ]
  }
 ],
 "metadata": {
  "kernelspec": {
   "display_name": "Python 3",
   "language": "python",
   "name": "python3"
  },
  "language_info": {
   "codemirror_mode": {
    "name": "ipython",
    "version": 3
   },
   "file_extension": ".py",
   "mimetype": "text/x-python",
   "name": "python",
   "nbconvert_exporter": "python",
   "pygments_lexer": "ipython3",
   "version": "3.6.5"
  }
 },
 "nbformat": 4,
 "nbformat_minor": 2
}
